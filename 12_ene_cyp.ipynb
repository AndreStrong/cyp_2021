{
  "nbformat": 4,
  "nbformat_minor": 0,
  "metadata": {
    "colab": {
      "name": "12_ene_cyp.ipynb",
      "provenance": [],
      "authorship_tag": "ABX9TyOY6qrQJwI4Uff4z/Qw1LdK",
      "include_colab_link": true
    },
    "kernelspec": {
      "name": "python3",
      "display_name": "Python 3"
    }
  },
  "cells": [
    {
      "cell_type": "markdown",
      "metadata": {
        "id": "view-in-github",
        "colab_type": "text"
      },
      "source": [
        "<a href=\"https://colab.research.google.com/github/AndreStrong/cyp_2021/blob/main/12_ene_cyp.ipynb\" target=\"_parent\"><img src=\"https://colab.research.google.com/assets/colab-badge.svg\" alt=\"Open In Colab\"/></a>"
      ]
    },
    {
      "cell_type": "code",
      "metadata": {
        "id": "3FPCmFZ_piZJ"
      },
      "source": [
        ""
      ],
      "execution_count": null,
      "outputs": []
    },
    {
      "cell_type": "markdown",
      "metadata": {
        "id": "YnBwhXmwp4Bx"
      },
      "source": [
        "\r\n",
        "#Introduccion a python\r\n",
        "- Creado en los 90\r\n",
        "\r\n",
        "\r\n",
        "##Caracteristicas de Python\r\n",
        "\r\n",
        "1. Lenguaje de proposito general\r\n",
        "2. Lenguaje interpretado y no compilado.\r\n",
        "3. Tipo de datos dinamicos. (Numericos, booleanos, cadena, etc)\r\n",
        "4. Multiplataforma.\r\n",
        "5. Lenguaje multi-paradigma. (soporta progrmacion: imperatica, funcional y PO)\r\n",
        "6.  El codigo es estructurado por indentacion.\r\n",
        "7. Principios Zen.\r\n",
        "\r\n",
        "---\r\n",
        "\r\n"
      ]
    },
    {
      "cell_type": "code",
      "metadata": {
        "colab": {
          "base_uri": "https://localhost:8080/"
        },
        "id": "e_YAl4sWute7",
        "outputId": "7c460eed-cf4e-46b4-bd5c-b499cfdd8cb6"
      },
      "source": [
        "#Primer programa en Python.\r\n",
        "\r\n",
        "nombre = \"Jose\"\r\n",
        "\r\n",
        "edad = 18 \r\n",
        "\r\n",
        "\r\n",
        "print (\"hola\" , nombre , edad)\r\n"
      ],
      "execution_count": 2,
      "outputs": [
        {
          "output_type": "stream",
          "text": [
            "hola Jose 18\n"
          ],
          "name": "stdout"
        }
      ]
    },
    {
      "cell_type": "markdown",
      "metadata": {
        "id": "B5Yk0yiwvryv"
      },
      "source": [
        "print es una de las funciones mas empleadas en programacion y busca enviar datos a la salida estandar (monitor)\r\n",
        "\r\n",
        "##Formas de uso\r\n",
        "con comas\r\n",
        "con signos (+-)\r\n",
        ".format()\r\n",
        "el operador f\"   \"\r\n",
        "\r\n",
        "##uso con comas.\r\n",
        "concatena los datos enciados a print y les agrega un espacio.\r\n",
        "\r\n",
        "##Con signos.\r\n"
      ]
    },
    {
      "cell_type": "code",
      "metadata": {
        "colab": {
          "base_uri": "https://localhost:8080/",
          "height": 135
        },
        "id": "HGPDZCmiw7cP",
        "outputId": "00af1fd9-6018-477e-af68-121221629b0b"
      },
      "source": [
        "print (\"hola\" , nombre , edad)\r\n",
        "print (\"hola\" + nombre + str(edad))\r\n",
        "\r\n",
        "# Jose con una edad de: 18 años\r\n",
        "\r\n",
        "print(\"Nombre\" , nombre , \"con una edad de\"  edad , \"años\")\r\n",
        "print(\"Nombre\" + nombre + \"con una edad de\"  +  str(edad) + \"años\")\r\n",
        "\r\n",
        "\r\n",
        "#con format\r\n",
        "\r\n",
        "print(\"Nombre\" , nombre , \"con una edad de\"  edad , \"años\")\r\n",
        "\r\n",
        "#con operador f\"\"\r\n",
        "\r\n",
        "print(f\"Nombre:  {nombre} con una edad de :  { edad } años\")"
      ],
      "execution_count": 15,
      "outputs": [
        {
          "output_type": "error",
          "ename": "SyntaxError",
          "evalue": "ignored",
          "traceback": [
            "\u001b[0;36m  File \u001b[0;32m\"<ipython-input-15-da0bd7107355>\"\u001b[0;36m, line \u001b[0;32m6\u001b[0m\n\u001b[0;31m    print(\"Nombre\" , nombre , \"con una edad de\"  edad , \"años\")\u001b[0m\n\u001b[0m                                                    ^\u001b[0m\n\u001b[0;31mSyntaxError\u001b[0m\u001b[0;31m:\u001b[0m invalid syntax\n"
          ]
        }
      ]
    },
    {
      "cell_type": "code",
      "metadata": {
        "colab": {
          "base_uri": "https://localhost:8080/"
        },
        "id": "AfK9ruld05QH",
        "outputId": "41f00d15-3009-4c94-ef01-8bc35fbee625"
      },
      "source": [
        "print(f\"Nombre:  {nombre} con una edad de :  { edad } años\")\r\n",
        "\r\n",
        "print(f\"Nombre:  {0} con una edad de :  {1} años\" .format(nombre , edad) )"
      ],
      "execution_count": 8,
      "outputs": [
        {
          "output_type": "stream",
          "text": [
            "Nombre:  Jose con una edad de :  18 años\n",
            "Nombre:  0 con una edad de :  1 años\n"
          ],
          "name": "stdout"
        }
      ]
    },
    {
      "cell_type": "code",
      "metadata": {
        "colab": {
          "base_uri": "https://localhost:8080/"
        },
        "id": "HkhW6cnN25PY",
        "outputId": "d8a1b9d1-840d-497b-fb26-b4e0cb2cd46b"
      },
      "source": [
        "print('\\\"\\\"')\r\n",
        "\r\n",
        "print(\"nombre: Jose\\n\\tcon una edad de: 18 años\")\r\n",
        "\r\n",
        "print(\"hola \\u2661 \\u1f601\")"
      ],
      "execution_count": 20,
      "outputs": [
        {
          "output_type": "stream",
          "text": [
            "\"\"\n",
            "nombre: Jose\n",
            "\tcon una edad de: 18 años\n",
            "hola ♡ ὠ1\n"
          ],
          "name": "stdout"
        }
      ]
    },
    {
      "cell_type": "code",
      "metadata": {
        "colab": {
          "base_uri": "https://localhost:8080/"
        },
        "id": "dT3t5ya08f7E",
        "outputId": "75f04323-4d66-44d8-8ac9-1ee9a57b9ad7"
      },
      "source": [
        "print(\"hola\" , end = \"--------\")\r\n",
        "print(\"mundo\" , end = \"\\u13CD \\u13CD \\u13CD \\u13CD \\u13CD\")\r\n",
        "print(\"fin\" , end = \"\\n\")"
      ],
      "execution_count": 24,
      "outputs": [
        {
          "output_type": "stream",
          "text": [
            "hola--------mundoᏍ Ꮝ Ꮝ Ꮝ Ꮝfin\n"
          ],
          "name": "stdout"
        }
      ]
    },
    {
      "cell_type": "markdown",
      "metadata": {
        "id": "ArzeRXlz9j9v"
      },
      "source": [
        "#cometarios en python\r\n",
        "un comentario en python es un texto especial. que es ignorado por el compilador o interprete (segun sea el caso).\r\n",
        "y es empelado para que el programador documente sus algoritmos.\r\n",
        "\r\n",
        "existen de 2 tipos :\r\n",
        "- linea simple\r\n",
        "- linea multiple\r\n"
      ]
    },
    {
      "cell_type": "code",
      "metadata": {
        "colab": {
          "base_uri": "https://localhost:8080/"
        },
        "id": "g629h_cW-vqP",
        "outputId": "3689fdd6-ef6d-4f3a-ea12-cb312b1feeef"
      },
      "source": [
        "print(\"hola\") #Aca con el Maluma\r\n",
        "print(\"hola\")\r\n",
        "print(\"hola\")\r\n",
        "\"\"\"\r\n",
        "Good bye\r\n",
        "\"\"\"\r\n",
        "print(\"hola\") \r\n",
        "print(\"hola\")\r\n",
        "print(\"hola\")\r\n",
        "print(\"hola\")"
      ],
      "execution_count": 25,
      "outputs": [
        {
          "output_type": "stream",
          "text": [
            "hola\n",
            "hola\n",
            "hola\n",
            "hola\n",
            "hola\n",
            "hola\n",
            "hola\n"
          ],
          "name": "stdout"
        }
      ]
    }
  ]
}