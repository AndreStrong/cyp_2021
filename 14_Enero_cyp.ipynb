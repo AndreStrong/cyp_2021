{
  "nbformat": 4,
  "nbformat_minor": 0,
  "metadata": {
    "colab": {
      "name": "14_Enero_cyp.ipynb",
      "provenance": [],
      "authorship_tag": "ABX9TyORNOicsB+8TEwvcj68cRwq",
      "include_colab_link": true
    },
    "kernelspec": {
      "name": "python3",
      "display_name": "Python 3"
    }
  },
  "cells": [
    {
      "cell_type": "markdown",
      "metadata": {
        "id": "view-in-github",
        "colab_type": "text"
      },
      "source": [
        "<a href=\"https://colab.research.google.com/github/AndreStrong/cyp_2021/blob/main/14_Enero_cyp.ipynb\" target=\"_parent\"><img src=\"https://colab.research.google.com/assets/colab-badge.svg\" alt=\"Open In Colab\"/></a>"
      ]
    },
    {
      "cell_type": "code",
      "metadata": {
        "colab": {
          "base_uri": "https://localhost:8080/"
        },
        "id": "s7o_3sg86E7l",
        "outputId": "13285ea3-077f-4180-bc51-23fa58e748c7"
      },
      "source": [
        "import keyword\r\n",
        "pr = keyword.kwlist\r\n",
        "print( len(pr))\r\n",
        "for palabra in pr:\r\n",
        "  print( \"1.\" , palabra , )"
      ],
      "execution_count": 2,
      "outputs": [
        {
          "output_type": "stream",
          "text": [
            "33\n",
            "1. False\n",
            "1. None\n",
            "1. True\n",
            "1. and\n",
            "1. as\n",
            "1. assert\n",
            "1. break\n",
            "1. class\n",
            "1. continue\n",
            "1. def\n",
            "1. del\n",
            "1. elif\n",
            "1. else\n",
            "1. except\n",
            "1. finally\n",
            "1. for\n",
            "1. from\n",
            "1. global\n",
            "1. if\n",
            "1. import\n",
            "1. in\n",
            "1. is\n",
            "1. lambda\n",
            "1. nonlocal\n",
            "1. not\n",
            "1. or\n",
            "1. pass\n",
            "1. raise\n",
            "1. return\n",
            "1. try\n",
            "1. while\n",
            "1. with\n",
            "1. yield\n"
          ],
          "name": "stdout"
        }
      ]
    },
    {
      "cell_type": "markdown",
      "metadata": {
        "id": "aaOpx2MS633E"
      },
      "source": [
        "## varible\r\n",
        "Es un espacio de memoria de la compuadora para almacenar valores que cambian a lo largo de la ejecucion del programa. Este espacio de memoria esta referenciado por un identificador, el cual tiene reglas del nombrado.\r\n",
        "- no puede iniciar con un numero.\r\n",
        "- puede iniciar con _\r\n",
        "- no debe ser igual a algunas de las palabras reservadas.\r\n",
        "- evitar nombres de variables largos.\r\n",
        "- evitar muy cortos.\r\n",
        "- usar notacion snake_case"
      ]
    },
    {
      "cell_type": "code",
      "metadata": {
        "colab": {
          "base_uri": "https://localhost:8080/"
        },
        "id": "K7bRxkN_7uZ6",
        "outputId": "5323b27d-3fdf-4c60-d64c-70b57e2aa9f3"
      },
      "source": [
        "_2edad= 12\r\n",
        "print(_2edad)\r\n",
        "\r\n",
        "\"\"\"\r\n",
        "no se puede usar una palabra reservada como una variable:\r\n",
        "for = 12\r\n",
        "print(for)\r\n",
        "\"\"\"\r\n",
        "\r\n"
      ],
      "execution_count": 4,
      "outputs": [
        {
          "output_type": "stream",
          "text": [
            "12\n"
          ],
          "name": "stdout"
        }
      ]
    },
    {
      "cell_type": "code",
      "metadata": {
        "id": "THQd6bTz9J57"
      },
      "source": [
        "\"\"\"\r\n",
        "uso de la notacion snake_case consta de formar el identificador de variable \r\n",
        "separando las palabras del mismo con un guion bajo.\r\n",
        "\r\n",
        "Se recomienda para las varibles el uso de miniusculas. y\r\n",
        "para las constantes el uso de mayusculas.\r\n",
        "\r\n",
        "Es decir si tenemos una variable para los dias de la semana, seescribiria asi:\r\n",
        "\r\n",
        "dias_de_la_semana = 7\r\n",
        "dias_mes = 31\r\n",
        "limite_maximo = 100\r\n"
      ],
      "execution_count": null,
      "outputs": []
    },
    {
      "cell_type": "markdown",
      "metadata": {
        "id": "sIPikiFr97Xr"
      },
      "source": [
        "# tipos de datos.\r\n",
        "\r\n",
        "- numericos:\r\n",
        "  - enteros (int por defecto se interpretan numeros de 4 bytes)\r\n",
        "  - flotantes float (1.14, 3.1416)\r\n",
        "  - long (1 , 2, 7984865, etc)\r\n",
        "  - complex ( 3 + 2j (raices negativas))\r\n",
        "  - booleanos : true or false\r\n",
        "  - string cadenas de caracteres (\"cad\" , ´cad´ o \"\"\"cad\"\"\")\r\n",
        "  - listas ((1, 2, 3 , 4) , (a, b, 1 ,2 ,3) )\r\n",
        "  - tuplas ( (edad, 23) , (3, 4) )\r\n",
        "  - conjuntos\r\n",
        "  - diccionarios ( (\"nombre\" : \"juan\") )\r\n",
        "  "
      ]
    },
    {
      "cell_type": "markdown",
      "metadata": {
        "id": "aOVxhUHOEAfr"
      },
      "source": [
        "# string : tipo de dato.\r\n",
        "\r\n",
        "este tipo de datos permite almacenar cadenas  de caracteres.\r\n",
        "por ejemeplo:\r\n",
        "\r\n",
        "nombre = ¨jesus¨\r\n",
        "lugar_nacimiento = \"Mexico D.F, Tacuba\"\r\n",
        "frase_favorita = \"\"\"\r\n",
        "Eñ conocimiento me persigue, pero...\r\n",
        "yo soy mas rapido!!!\r\n",
        ":)\r\n",
        "\"\"\""
      ]
    },
    {
      "cell_type": "code",
      "metadata": {
        "colab": {
          "base_uri": "https://localhost:8080/"
        },
        "id": "MOmXCL99FGjI",
        "outputId": "8896b494-c999-4a2a-bf71-2330acc696b0"
      },
      "source": [
        "nombre = \"Jesus\"\r\n",
        "lugar_nacimiento = \"Mexico D.F, Tacuba\"\r\n",
        "frase_favorita = \"\"\"\r\n",
        "El conocimiento me persigue, pero...\r\n",
        "yo soy mas rapido!!!\r\n",
        ":)\r\n",
        "\"\"\"\r\n",
        "\r\n",
        "print(nombre)\r\n",
        "print(lugar_nacimiento)\r\n",
        "print(frase_favorita)"
      ],
      "execution_count": 8,
      "outputs": [
        {
          "output_type": "stream",
          "text": [
            "Jesus\n",
            "Mexico D.F, Tacuba\n",
            "\n",
            "El conocimiento me persigue, pero...\n",
            "yo soy mas rapido!!!\n",
            ":)\n",
            "\n"
          ],
          "name": "stdout"
        }
      ]
    },
    {
      "cell_type": "markdown",
      "metadata": {
        "id": "SNcHgVAMFhZV"
      },
      "source": [
        "# string como arreglo\r\n",
        "\r\n",
        "un string en python es almacenado como el tipo de dato (estructura de datos) arreglo.\r\n",
        "\r\n",
        "por ejemplo ladeclaracion.\r\n",
        "\"\"\"\r\n",
        "nombre = \"Jesus\"\r\n",
        "el elemento \"J\" es almacenado en un arreglo en la posicion 0.\r\n",
        "La en la l y asi secesivamente.\r\n",
        "\r\n",
        "## selector\r\n",
        "\r\n",
        "la notacion para seleccionar un elemento del arreglo es:\r\n",
        "\"\"\"\r\n",
        "\r\n",
        "[ 1 ]\r\n",
        "\r\n",
        "\"\"\"\r\n",
        "\r\n",
        "donde el  valor interno debe ser un valor numerico entero.\r\n",
        "\r\n"
      ]
    },
    {
      "cell_type": "code",
      "metadata": {
        "colab": {
          "base_uri": "https://localhost:8080/"
        },
        "id": "EVqoG6UhGIPF",
        "outputId": "84daffde-665b-418c-b856-b72d28c33628"
      },
      "source": [
        "nombre = \"Jesus\"\r\n",
        "\r\n",
        "print(nombre)\r\n",
        "print(nombre[3]) # los corchetes se conocen como los selectores. vease el ejemplo\r\n"
      ],
      "execution_count": 9,
      "outputs": [
        {
          "output_type": "stream",
          "text": [
            "Jesus\n",
            "u\n"
          ],
          "name": "stdout"
        }
      ]
    },
    {
      "cell_type": "markdown",
      "metadata": {
        "id": "5nmS1cdEHi-F"
      },
      "source": [
        "# iterar sibre un string\r\n",
        "\r\n",
        "se puede iterar sobre un string con un for de la forma:\r\n",
        "\r\n",
        "\"\"\"\r\n",
        "for letra in range( len(nombre)) :\r\n",
        "  print(letra)\r\n",
        "\"\"\"\r\n"
      ]
    },
    {
      "cell_type": "code",
      "metadata": {
        "colab": {
          "base_uri": "https://localhost:8080/"
        },
        "id": "pgwedsSLIW8E",
        "outputId": "277bfef5-8986-4071-e1aa-d13d578aa25f"
      },
      "source": [
        "for indice in range( len(nombre)) : #0 , 1 ,2 ,3 ,4\r\n",
        "  print(indice , end = \" \")\r\n",
        "  print(nombre[indice])"
      ],
      "execution_count": 11,
      "outputs": [
        {
          "output_type": "stream",
          "text": [
            "0 J\n",
            "1 e\n",
            "2 s\n",
            "3 u\n",
            "4 s\n"
          ],
          "name": "stdout"
        }
      ]
    },
    {
      "cell_type": "markdown",
      "metadata": {
        "id": "WWbszMkLJ-zF"
      },
      "source": [
        "# funcion range (inicio stop incremento)\r\n",
        "\r\n",
        "el inicio es opcional y por defecto tiene el valor 0\r\n",
        "\r\n",
        "el incremento tambien es opcinal y por defecto es 1"
      ]
    },
    {
      "cell_type": "code",
      "metadata": {
        "colab": {
          "base_uri": "https://localhost:8080/"
        },
        "id": "UQzrhQuEJ0F9",
        "outputId": "23ca7162-7a8b-4cf5-b006-21f9141ad8dc"
      },
      "source": [
        "for indice in range (4 , -1 , -1): \r\n",
        "  print(nombre[indice])"
      ],
      "execution_count": 26,
      "outputs": [
        {
          "output_type": "stream",
          "text": [
            "s\n",
            "u\n",
            "s\n",
            "e\n",
            "J\n"
          ],
          "name": "stdout"
        }
      ]
    },
    {
      "cell_type": "markdown",
      "metadata": {
        "id": "X8TqTTSoL4T3"
      },
      "source": [
        "# string e indexado negativo\r\n",
        "\r\n",
        "en python 3 se agrega una nueva caracteristica a los arreglos de las cadenas de caracteres esta consta de la capacidad de indexar de forma negativa.\r\n",
        "\r\n",
        "la logica es la siguiente.\r\n",
        "\r\n",
        "es ultimo elemento se considera como indice (ALTERNATIVO)  -1, con lo cual se podria referenciar el final de la cadena sin la necesidad de saber el tamaño de la misma.\r\n",
        "\r\n",
        "\"\"\"\r\n",
        "nombre = \"Andres\"\r\n",
        "\r\n",
        "\"\"\"\r\n",
        "\r\n",
        "indice normal 0 1 2 3 4\r\n",
        "\r\n",
        "              a n d r e s\r\n",
        "\r\n",
        "indice alternativo. -5 -4 -3 -2 -1\r\n",
        "\r\n"
      ]
    },
    {
      "cell_type": "code",
      "metadata": {
        "colab": {
          "base_uri": "https://localhost:8080/"
        },
        "id": "8tDX9xLIMq6G",
        "outputId": "d417808c-550a-4fda-fe75-b4f3e568daca"
      },
      "source": [
        "nombre = \"Andres\"\r\n",
        "print(nombre[4])\r\n",
        "print(nombre[-1])\r\n",
        "\r\n",
        "print(\" \")\r\n",
        "\r\n",
        "for indice_alter in range(-1, -6, -1):\r\n",
        "  print(nombre[indice_alter])"
      ],
      "execution_count": 30,
      "outputs": [
        {
          "output_type": "stream",
          "text": [
            "e\n",
            "s\n",
            " \n",
            "s\n",
            "e\n",
            "r\n",
            "d\n",
            "n\n"
          ],
          "name": "stdout"
        }
      ]
    },
    {
      "cell_type": "markdown",
      "metadata": {
        "id": "JnHzhynOP2DO"
      },
      "source": [
        "# Slicing de cadena de caracteres.\r\n",
        "\r\n",
        "esta caracteristica permite sacar secciones de una cadena con la siguiente sintaxis:\r\n",
        "\r\n",
        "\"\"\"\r\n",
        "[ inicio : stop : incremento]\r\n",
        "\r\n",
        "donde inicio e incremento son opcionales y tambien soportan indexado negativo\r\n"
      ]
    },
    {
      "cell_type": "code",
      "metadata": {
        "colab": {
          "base_uri": "https://localhost:8080/"
        },
        "id": "z9Cn5DaKQdj2",
        "outputId": "b2df5f41-dae5-4a86-ca4e-c37ea51c5fe6"
      },
      "source": [
        "facultad = \"Facultad de Estudios Superiores Aragon (la mejor)\"\r\n",
        "\r\n",
        "print(facultad)\r\n",
        "\r\n",
        "for indice in range( 12, 20, 1):\r\n",
        "  print( facultad[indice] , end = \"\")\r\n",
        "\r\n",
        "  #hacer esto mismo con la caracteristica slicing se logar asi:\r\n",
        "\r\n",
        "print(\"\\nCon Slicing\")\r\n",
        "print(facultad[12:20:1])\r\n",
        "\r\n",
        "print(\"\\nCon la de\")\r\n",
        "print(facultad[9:11:1])\r\n",
        "\r\n",
        "\r\n"
      ],
      "execution_count": 41,
      "outputs": [
        {
          "output_type": "stream",
          "text": [
            "Facultad de Estudios Superiores Aragon (la mejor)\n",
            "Estudios\n",
            "Con Slicing\n",
            "Estudios\n",
            "\n",
            "Con la de\n",
            "de\n"
          ],
          "name": "stdout"
        }
      ]
    }
  ]
}