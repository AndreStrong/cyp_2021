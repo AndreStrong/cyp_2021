{
  "nbformat": 4,
  "nbformat_minor": 0,
  "metadata": {
    "colab": {
      "name": "17_Nov_cyp.ipynb",
      "provenance": [],
      "authorship_tag": "ABX9TyO+a4ss0b5OfzjfJVUMgn6X",
      "include_colab_link": true
    },
    "kernelspec": {
      "name": "python3",
      "display_name": "Python 3"
    }
  },
  "cells": [
    {
      "cell_type": "markdown",
      "metadata": {
        "id": "view-in-github",
        "colab_type": "text"
      },
      "source": [
        "<a href=\"https://colab.research.google.com/github/AndreStrong/cyp_2021/blob/main/17_Nov_cyp.ipynb\" target=\"_parent\"><img src=\"https://colab.research.google.com/assets/colab-badge.svg\" alt=\"Open In Colab\"/></a>"
      ]
    },
    {
      "cell_type": "code",
      "metadata": {
        "colab": {
          "base_uri": "https://localhost:8080/"
        },
        "id": "v_oAjHWQSDD4",
        "outputId": "dda53be3-6d04-4fed-8749-8bfa1381a16a"
      },
      "source": [
        "Edad = 15\n",
        "Estatura = 1.67\n",
        "a = 10\n",
        "b = 3\n",
        "c = 2 ** b + 2\n",
        "print( c ) \n",
        "\n",
        "e= Estatura * 2.0\n",
        "print(e)\n",
        "\n",
        "f = a/b #en python se hace el calculo exacto\n",
        "\n",
        "print(f) #3.33333\n",
        "\n",
        "#tambien forzamos el calculo de enteros\n",
        "\n",
        "g= a // b\n",
        "\n",
        "print(\"g=\",g )\n",
        "\n",
        "h = a % b\n",
        "\n",
        "print(\"h=\", h)\n",
        "\n",
        "num= 11\n",
        "\n",
        "print(\"Es par num?\", (num % 2)==0)"
      ],
      "execution_count": 9,
      "outputs": [
        {
          "output_type": "stream",
          "text": [
            "10\n",
            "3.34\n",
            "3.3333333333333335\n",
            "g= 3\n",
            "h= 1\n",
            "Es par num? False\n"
          ],
          "name": "stdout"
        }
      ]
    },
    {
      "cell_type": "code",
      "metadata": {
        "colab": {
          "base_uri": "https://localhost:8080/"
        },
        "id": "mglnKznuW4DZ",
        "outputId": "86a2ca75-8156-4f77-9aa0-8cb351ab65d7"
      },
      "source": [
        "ecuacion = 9 + 7 * 8 - 36 /5\n",
        "print (ecuacion)\n",
        "\n",
        "ecuacion = (9 + 7) * 8 - 36 / 5 #128 -7.2\n",
        "\n",
        "print(ecuacion)\n",
        "\n",
        "ecuacion= 9+7 * (8 - 36) / 5 #"
      ],
      "execution_count": 12,
      "outputs": [
        {
          "output_type": "stream",
          "text": [
            "57.8\n",
            "120.8\n"
          ],
          "name": "stdout"
        }
      ]
    },
    {
      "cell_type": "code",
      "metadata": {
        "colab": {
          "base_uri": "https://localhost:8080/",
          "height": 264
        },
        "id": "wj5zVVYScMfR",
        "outputId": "ffb06d03-98cf-46b6-8839-b150ce9ec773"
      },
      "source": [
        "#operadores logicos\n",
        "\n",
        "valor = (5 == 4) #son iguales?? --> falso\n",
        "\n",
        "print(valor)\n",
        "\n",
        "\n"
      ],
      "execution_count": 15,
      "outputs": [
        {
          "output_type": "stream",
          "text": [
            "False\n"
          ],
          "name": "stdout"
        },
        {
          "output_type": "error",
          "ename": "NameError",
          "evalue": "ignored",
          "traceback": [
            "\u001b[0;31m---------------------------------------------------------------------------\u001b[0m",
            "\u001b[0;31mNameError\u001b[0m                                 Traceback (most recent call last)",
            "\u001b[0;32m<ipython-input-15-9858e0c1d549>\u001b[0m in \u001b[0;36m<module>\u001b[0;34m()\u001b[0m\n\u001b[1;32m      5\u001b[0m \u001b[0mprint\u001b[0m\u001b[0;34m(\u001b[0m\u001b[0mvalor\u001b[0m\u001b[0;34m)\u001b[0m\u001b[0;34m\u001b[0m\u001b[0;34m\u001b[0m\u001b[0m\n\u001b[1;32m      6\u001b[0m \u001b[0;34m\u001b[0m\u001b[0m\n\u001b[0;32m----> 7\u001b[0;31m \u001b[0mvalor\u001b[0m \u001b[0;34m=\u001b[0m \u001b[0;34m(\u001b[0m\u001b[0mx\u001b[0m \u001b[0;34m==\u001b[0m \u001b[0my\u001b[0m\u001b[0;34m)\u001b[0m \u001b[0;31m# son diferentes?? --> Verdadero\u001b[0m\u001b[0;34m\u001b[0m\u001b[0;34m\u001b[0m\u001b[0m\n\u001b[0m\u001b[1;32m      8\u001b[0m \u001b[0;34m\u001b[0m\u001b[0m\n\u001b[1;32m      9\u001b[0m \u001b[0mprint\u001b[0m \u001b[0;34m(\u001b[0m\u001b[0mvalor\u001b[0m\u001b[0;34m)\u001b[0m\u001b[0;34m\u001b[0m\u001b[0;34m\u001b[0m\u001b[0m\n",
            "\u001b[0;31mNameError\u001b[0m: name 'x' is not defined"
          ]
        }
      ]
    },
    {
      "cell_type": "code",
      "metadata": {
        "id": "vvG-AqcafcO2"
      },
      "source": [
        ""
      ],
      "execution_count": null,
      "outputs": []
    },
    {
      "cell_type": "code",
      "metadata": {
        "colab": {
          "base_uri": "https://localhost:8080/"
        },
        "id": "Jy2FI2juds5f",
        "outputId": "34a4d3b4-ba9f-41ec-c343-29f8266e808e"
      },
      "source": [
        "#operadores logicos\n",
        "\n",
        "x = 5\n",
        "\n",
        "y = 4\n",
        "\n",
        "valor = (x == y) # son iguales?? --> falso\n",
        "\n",
        "print (valor)\n",
        "\n",
        "valor = (x != y) # son diferentes?? --> Verdadero\n",
        "\n",
        "print (valor)\n",
        "\n",
        "valor = (x < y) # x es menor que y?? --> falso\n",
        "\n",
        "print (valor)\n",
        "\n",
        "valor = (x > y) # x es mayor que y?? --> Verdadero\n",
        "\n",
        "print (valor)\n",
        "\n",
        "y = 5\n",
        "\n",
        "valor = (x <= y) # x es menor o igual que y?? --> Verdadero\n",
        "\n",
        "print (valor)\n",
        "\n",
        "valor = (x >= y) # x es mayor o igual que y?? --> falso\n",
        "\n",
        "print (valor)"
      ],
      "execution_count": 16,
      "outputs": [
        {
          "output_type": "stream",
          "text": [
            "False\n",
            "True\n",
            "False\n",
            "True\n",
            "True\n",
            "True\n"
          ],
          "name": "stdout"
        }
      ]
    },
    {
      "cell_type": "code",
      "metadata": {
        "colab": {
          "base_uri": "https://localhost:8080/"
        },
        "id": "qN3bX8ILfgSu",
        "outputId": "b8078f28-5c13-497d-d87f-b2b179639024"
      },
      "source": [
        "costo_chetos = 7.0\n",
        "\n",
        "tienda_abierta = True\n",
        "\n",
        "capital_en_bolsa = 10.0\n",
        "\n",
        "se_compra = (costo_chetos < capital_en_bolsa) and (tienda_abierta == True)\n",
        "\n",
        "print(se_compra)\n"
      ],
      "execution_count": 17,
      "outputs": [
        {
          "output_type": "stream",
          "text": [
            "True\n"
          ],
          "name": "stdout"
        }
      ]
    }
  ]
}