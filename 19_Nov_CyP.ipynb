{
  "nbformat": 4,
  "nbformat_minor": 0,
  "metadata": {
    "colab": {
      "name": "19_Nov_CyP.ipynb",
      "provenance": [],
      "authorship_tag": "ABX9TyOrK2WUs/h2cYFNk6O2EOPx",
      "include_colab_link": true
    },
    "kernelspec": {
      "name": "python3",
      "display_name": "Python 3"
    }
  },
  "cells": [
    {
      "cell_type": "markdown",
      "metadata": {
        "id": "view-in-github",
        "colab_type": "text"
      },
      "source": [
        "<a href=\"https://colab.research.google.com/github/AndreStrong/cyp_2021/blob/main/19_Nov_CyP.ipynb\" target=\"_parent\"><img src=\"https://colab.research.google.com/assets/colab-badge.svg\" alt=\"Open In Colab\"/></a>"
      ]
    },
    {
      "cell_type": "code",
      "metadata": {
        "colab": {
          "base_uri": "https://localhost:8080/"
        },
        "id": "iG7iRvQDhF7E",
        "outputId": "82d76ed9-194c-4996-e86d-400e34e60b87"
      },
      "source": [
        "I = 0\n",
        "\n",
        "print(f\"I = {\")"
      ],
      "execution_count": 1,
      "outputs": [
        {
          "output_type": "stream",
          "text": [
            "I = (I)\n"
          ],
          "name": "stdout"
        }
      ]
    },
    {
      "cell_type": "code",
      "metadata": {
        "colab": {
          "base_uri": "https://localhost:8080/"
        },
        "id": "_tYPbB9Nmxwh",
        "outputId": "98f156cb-f94c-449a-d073-f3c806d87e7b"
      },
      "source": [
        "#Declaracion de variables (Reservando memoria)\n",
        "\n",
        "\n",
        "A = 0\n",
        "B = 0\n",
        "C = 0\n",
        "D = 0\n",
        "\n",
        "A = int(input(\"Dame un valor entero:\"))\n",
        "\n",
        "B = int(input(\"Dame un valor entero:\"))\n",
        "\n",
        "C = int(input(\"Dame un valor entero:\"))\n",
        "\n",
        "D = int(input(\"Dame un valor entero:\"))\n",
        "\n",
        "print(D)\n",
        "\n",
        "print(C)\n",
        "\n",
        "print(B)\n",
        "\n",
        "print(A)\n"
      ],
      "execution_count": null,
      "outputs": [
        {
          "output_type": "stream",
          "text": [
            "Dame un valor entero:0\n"
          ],
          "name": "stdout"
        }
      ]
    },
    {
      "cell_type": "code",
      "metadata": {
        "id": "rl9HthNGpYxB"
      },
      "source": [
        "#ejemplo 1.7\n",
        "\n",
        "A = 0\n",
        "B = 0\n",
        "RES = 0\n",
        "\n",
        "\n",
        "A = int( input(\"Dame un valor entero:\"))\n",
        "\n",
        "B = int( input(\"Dame otro entero:\"))\n",
        "\n",
        "RES = ( A + B ) ** 2 / 3\n",
        "\n",
        "print(RES)\n"
      ],
      "execution_count": null,
      "outputs": []
    },
    {
      "cell_type": "code",
      "metadata": {
        "id": "xajtfZ9xuOo8"
      },
      "source": [
        "#Ejercicio 1.8\n",
        "\n",
        "MAT = 0\n",
        "CAL1 = 0\n",
        "CAL2 = 0 \n",
        "CAL3 = 0\n",
        "CAL4 = 0\n",
        "CAL5 = 0\n",
        "\n",
        "MAT = int (input(\"dame la matricula\"))\n",
        "\n",
        "CAL1 = float(input(\"dame la CAL1:\"))\n",
        "CAL2 = float(input(\"dame la CAL2:\"))\n",
        "CAL3 = float(input(\"dame la CAL3:\"))\n",
        "CAL4 = float(input(\"dame la CAL4:\"))\n",
        "CAL5 = float(input(\"dame la CAL5:\"))\n",
        "\n",
        "\n",
        "PROMEDIO = ( CAL1 + CAL2 + CAL3 + CAL4 +CAL5 ) / 5\n",
        "\n",
        "print(MAT, PROMEDIO)"
      ],
      "execution_count": null,
      "outputs": []
    },
    {
      "cell_type": "code",
      "metadata": {
        "id": "gBuFA_ExxtNW"
      },
      "source": [
        "#Ejercicio 1.9\n",
        "\n",
        "NUM = 0\n",
        "\n",
        "NUM = int(input(\"Number: \"))\n",
        "\n",
        "CUA = ( NUM * NUM )\n",
        "\n",
        "CUB = ( NUM ** 3 )\n",
        "\n",
        "print( CUA, CUB)"
      ],
      "execution_count": null,
      "outputs": []
    },
    {
      "cell_type": "code",
      "metadata": {
        "id": "3gbCb1xJzX7l"
      },
      "source": [
        "#ejercicio 1.9\n",
        "\n",
        "BASE = 0 \n",
        "ALTURA = 0\n",
        "SUPE = 0\n",
        "PERI = 0\n",
        "\n",
        "BASE = float(input(\"DAME NUMERO:\"))\n",
        "ALTURA = float(input(\"DAME NUMERO:\"))\n",
        "\n",
        "SUPE = ( BASE * ALTURA)\n",
        "PERI = (( BASE * 2) + ( ALTURA * 2))\n",
        "\n",
        "\n",
        "print( SUPE, PERI)"
      ],
      "execution_count": null,
      "outputs": []
    },
    {
      "cell_type": "code",
      "metadata": {
        "id": "G1pYzY6p19Nl"
      },
      "source": [
        "#ejemplo 1.10\n",
        "base=0\n",
        "altura=0\n",
        "area=0\n",
        "per=0\n",
        "\n",
        "base=float(input(\"Ingresa la base\"))\n",
        "altura=float(input(\"Ingresa la altura\"))\n",
        "area=(base*altura)\n",
        "per=(2*base)+(2*altura)\n",
        "\n",
        "print(f\"el área es {area}\")\n",
        "print(f\"el perímetro es {per}\")"
      ],
      "execution_count": null,
      "outputs": []
    }
  ]
}