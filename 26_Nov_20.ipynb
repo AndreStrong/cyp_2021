{
  "nbformat": 4,
  "nbformat_minor": 0,
  "metadata": {
    "colab": {
      "name": "26-Nov-20.ipynb",
      "provenance": [],
      "authorship_tag": "ABX9TyP+BsNAOUkhGHbRv2zkLUoc",
      "include_colab_link": true
    },
    "kernelspec": {
      "name": "python3",
      "display_name": "Python 3"
    }
  },
  "cells": [
    {
      "cell_type": "markdown",
      "metadata": {
        "id": "view-in-github",
        "colab_type": "text"
      },
      "source": [
        "<a href=\"https://colab.research.google.com/github/AndreStrong/cyp_2021/blob/main/26_Nov_20.ipynb\" target=\"_parent\"><img src=\"https://colab.research.google.com/assets/colab-badge.svg\" alt=\"Open In Colab\"/></a>"
      ]
    },
    {
      "cell_type": "code",
      "metadata": {
        "colab": {
          "base_uri": "https://localhost:8080/"
        },
        "id": "LmwUpst6lbLK",
        "outputId": "6f415d26-5086-4128-d775-566a688c6963"
      },
      "source": [
        "if(True):\n",
        "  print(\"la condicion se cumple\")\n",
        "\n",
        "print(\"Termina el programa\")\n"
      ],
      "execution_count": 1,
      "outputs": [
        {
          "output_type": "stream",
          "text": [
            "la condicion se cumple\n",
            "Termina el programa\n"
          ],
          "name": "stdout"
        }
      ]
    },
    {
      "cell_type": "code",
      "metadata": {
        "colab": {
          "base_uri": "https://localhost:8080/"
        },
        "id": "-8eqTiotl8VZ",
        "outputId": "a7df80f2-f087-4124-bdad-53481b3e8ca2"
      },
      "source": [
        "if(5>3):\n",
        "  print(\"la condicion es verdadera\")\n",
        "\n",
        "print(\"no se cumple\")\n"
      ],
      "execution_count": 3,
      "outputs": [
        {
          "output_type": "stream",
          "text": [
            "la condicion se cumple\n",
            "no se cumple\n"
          ],
          "name": "stdout"
        }
      ]
    },
    {
      "cell_type": "code",
      "metadata": {
        "colab": {
          "base_uri": "https://localhost:8080/"
        },
        "id": "bOUZznbsmjMx",
        "outputId": "b10dc51d-ba09-4d3b-c81e-3db5e5b3b0a7"
      },
      "source": [
        "if(2>3):\n",
        "  print(\"se cumple\")\n",
        "\n",
        "print(\"no se cumple\")"
      ],
      "execution_count": 4,
      "outputs": [
        {
          "output_type": "stream",
          "text": [
            "no se cumple\n"
          ],
          "name": "stdout"
        }
      ]
    },
    {
      "cell_type": "code",
      "metadata": {
        "colab": {
          "base_uri": "https://localhost:8080/"
        },
        "id": "ULkt1khxnvLg",
        "outputId": "df65e991-6887-4e2d-98d1-17722d290d8c"
      },
      "source": [
        "#ejercicio 1\n",
        "\n",
        "cal=float(input(\"Cual es tu calificacion: \"))\n",
        "\n",
        "\n",
        "\n",
        "if(cal<8):\n",
        "  print(\"reprobado\")\n",
        "\n",
        "if(cal>=8):\n",
        "  print(\"aprobado\")\n",
        "\n"
      ],
      "execution_count": 23,
      "outputs": [
        {
          "output_type": "stream",
          "text": [
            "Cual es tu calificacion: 7.9\n",
            "reprobado\n"
          ],
          "name": "stdout"
        }
      ]
    },
    {
      "cell_type": "code",
      "metadata": {
        "colab": {
          "base_uri": "https://localhost:8080/"
        },
        "id": "OQYCQ-0cqm6L",
        "outputId": "ebf55beb-f7e5-4e2c-c243-8e142ae22d3b"
      },
      "source": [
        "#ejercicio 2\n",
        "\n",
        "Sue=float(input(\"Cual es su sueldo: \"))\n",
        "\n",
        "if(Sue<1000):\n",
        "  print(Sue * 1.15)\n",
        "  print(\"es el aumento que le corresponde\")\n",
        "\n",
        "if(Sue>1000):\n",
        "  print(\"No aplica\")"
      ],
      "execution_count": 33,
      "outputs": [
        {
          "output_type": "stream",
          "text": [
            "Cual es su sueldo: 123\n",
            "141.45\n",
            "es el aumento que le corresponde\n"
          ],
          "name": "stdout"
        }
      ]
    }
  ]
}