{
  "nbformat": 4,
  "nbformat_minor": 0,
  "metadata": {
    "colab": {
      "name": "5Enero_CyP.ipynb",
      "provenance": [],
      "authorship_tag": "ABX9TyN7dQm63oU6K5TuJwTh823Z",
      "include_colab_link": true
    },
    "kernelspec": {
      "name": "python3",
      "display_name": "Python 3"
    }
  },
  "cells": [
    {
      "cell_type": "markdown",
      "metadata": {
        "id": "view-in-github",
        "colab_type": "text"
      },
      "source": [
        "<a href=\"https://colab.research.google.com/github/AndreStrong/cyp_2021/blob/main/5Enero_CyP.ipynb\" target=\"_parent\"><img src=\"https://colab.research.google.com/assets/colab-badge.svg\" alt=\"Open In Colab\"/></a>"
      ]
    },
    {
      "cell_type": "code",
      "metadata": {
        "id": "eUO2tOzp1mDF"
      },
      "source": [
        "#Ejercicio\r\n",
        "Max = 5\r\n",
        "valor =  [0.0 for x in range(Max)]\r\n",
        "sum = 0.0\r\n",
        "prom = 0.0\r\n",
        "M = 0\r\n",
        "m = 100000000\r\n",
        "\r\n",
        "for i in range(Max):\r\n",
        "  valor[i] = int(input(\"Dame un valor entero positivo: \"))\r\n",
        "  if valor[i] > M:\r\n",
        "    M = valor[i]\r\n",
        "  elif valor[i] < m:\r\n",
        "    m = valor[i]\r\n",
        "\r\n",
        "for i in range(Max):\r\n",
        "  sum = sum + valor[i]\r\n",
        "\r\n",
        "prom = sum / Max\r\n",
        "\r\n",
        "print(f\"El numero mayor es {M}\")\r\n",
        "print(f\"El numero menor es {m}\")\r\n",
        "print(f\"El promedio es {prom}\")\r\n"
      ],
      "execution_count": null,
      "outputs": []
    },
    {
      "cell_type": "code",
      "metadata": {
        "id": "nAwHoJgG46yZ"
      },
      "source": [
        "#Work\r\n",
        "lista = []\r\n",
        "conjunto = []\r\n",
        "ultimo = 0.0\r\n",
        "numero_dato = int(input(\"Numero de datos: \"))\r\n",
        "for i in range(numero_dato):\r\n",
        "    lista.append(float(input(\"Dato: \")))\r\n",
        "conjunto.append(lista[0])\r\n",
        "ultimo = lista[0]\r\n",
        "for index, i in enumerate(lista):\r\n",
        "    if ultimo != i:\r\n",
        "        conjunto.append(i)\r\n",
        "        ultimo = i\r\n",
        "print(lista)\r\n",
        "print(conjunto)"
      ],
      "execution_count": null,
      "outputs": []
    },
    {
      "cell_type": "code",
      "metadata": {
        "id": "a-kGV1tH7b17"
      },
      "source": [
        "#Works\r\n",
        "lista = []\r\n",
        "numero_dato = int(input(\"Numero de datos: \"))\r\n",
        "for i in range(numero_dato):\r\n",
        "    lista.append(float(input(\"Dato: \")))\r\n",
        "print(lista)\r\n",
        "lista = list(set(lista))\r\n",
        "print(lista)"
      ],
      "execution_count": null,
      "outputs": []
    }
  ]
}