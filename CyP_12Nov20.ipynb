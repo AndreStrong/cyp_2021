{
  "nbformat": 4,
  "nbformat_minor": 0,
  "metadata": {
    "colab": {
      "name": "CyP 12Nov20.ipynb",
      "provenance": [],
      "authorship_tag": "ABX9TyM2aFB5tyjoLTPpNaTBzgka",
      "include_colab_link": true
    },
    "kernelspec": {
      "name": "python3",
      "display_name": "Python 3"
    }
  },
  "cells": [
    {
      "cell_type": "markdown",
      "metadata": {
        "id": "view-in-github",
        "colab_type": "text"
      },
      "source": [
        "<a href=\"https://colab.research.google.com/github/AndreStrong/cyp_2021/blob/main/CyP_12Nov20.ipynb\" target=\"_parent\"><img src=\"https://colab.research.google.com/assets/colab-badge.svg\" alt=\"Open In Colab\"/></a>"
      ]
    },
    {
      "cell_type": "code",
      "metadata": {
        "id": "j_-9V8xkcj4F"
      },
      "source": [
        "#Ejemplo1\n",
        "numero=int (input(\"Dame un numero\"))\n",
        "if numero >0:\n",
        "  print(\"El numero es positivo\")\n",
        "\n",
        "print(\"fin del progama\")\n"
      ],
      "execution_count": null,
      "outputs": []
    },
    {
      "cell_type": "code",
      "metadata": {
        "id": "IXeQNLP9fEWT"
      },
      "source": [
        "#Ejemplo2\n",
        "numero= int(input(\"Digite un numero\"))\n",
        "if numero >0:\n",
        "  print(\"El numero es positivo\")\n",
        "\n",
        "else: #sino imprime negativo\n",
        "  print(\"El numero es negativo\")"
      ],
      "execution_count": null,
      "outputs": []
    },
    {
      "cell_type": "code",
      "metadata": {
        "id": "q7l4Ucs7hOVf"
      },
      "source": [
        "#Ejejmplo3\n",
        "numero= int(input(\"Digite un numero\"))\n",
        "if numero>0:\n",
        "  print(\"El numero es positivo\")\n",
        "elif numero==0:\n",
        "  print(\"El numero es cero\")  \n",
        "else: \n",
        "  print(\"El numero es negativo\")"
      ],
      "execution_count": null,
      "outputs": []
    }
  ]
}