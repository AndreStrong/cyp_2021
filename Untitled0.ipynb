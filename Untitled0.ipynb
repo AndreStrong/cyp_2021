{
  "nbformat": 4,
  "nbformat_minor": 0,
  "metadata": {
    "colab": {
      "name": "Untitled0.ipynb",
      "provenance": [],
      "authorship_tag": "ABX9TyNYDXU1EP2aRgN30CfopjX1",
      "include_colab_link": true
    },
    "kernelspec": {
      "name": "python3",
      "display_name": "Python 3"
    }
  },
  "cells": [
    {
      "cell_type": "markdown",
      "metadata": {
        "id": "view-in-github",
        "colab_type": "text"
      },
      "source": [
        "<a href=\"https://colab.research.google.com/github/AndreStrong/cyp_2021/blob/main/Untitled0.ipynb\" target=\"_parent\"><img src=\"https://colab.research.google.com/assets/colab-badge.svg\" alt=\"Open In Colab\"/></a>"
      ]
    },
    {
      "cell_type": "code",
      "metadata": {
        "id": "og0CLHwZ4aSJ"
      },
      "source": [
        "S = 1\r\n",
        "C = 1 \r\n",
        "N = 1\r\n",
        "\r\n",
        "while(S !=0) or (C !=0) or (N !=0):\r\n",
        "  TPS = int(input(\"Ingrese el total de paises del sur: \"))\r\n",
        "  TPC = int(input(\"Ingrese el total de paises del centro: \"))\r\n",
        "  TPN =  int(input(\"Ingrese el total de paises de Norteamerica: \"))\r\n",
        "  if (TPS >= 1) and (TPS <= 30):\r\n",
        "    S = 0\r\n",
        "  if (TPC >= 1) and (TPC <= 30):\r\n",
        "    C = 0\r\n",
        "  if (TPN >= 1) and (TPN <= 30):\r\n",
        "    N = 0\r\n",
        "\r\n",
        "\r\n"
      ],
      "execution_count": null,
      "outputs": []
    },
    {
      "cell_type": "code",
      "metadata": {
        "colab": {
          "base_uri": "https://localhost:8080/"
        },
        "id": "X5RpKdxNTE_O",
        "outputId": "504b297d-15fb-4ddc-a06e-7aedaae7f08c"
      },
      "source": [
        "listaTPS = [ ]\r\n",
        "listaTPC = [ ]\r\n",
        "listaTPN = [ ]\r\n",
        "\r\n",
        "for x in range (TPS):\r\n",
        "  a = str(input(\"Ingrese nombre de pais del sur: \")) \r\n",
        "  listaTPS.append(a)\r\n",
        "\r\n",
        "for x in range (TPC):\r\n",
        "  b = str(input(\"Ingrese nombre de pais del centro: \")) \r\n",
        "  listaTPC.append(b)\r\n",
        "\r\n",
        "for x in range (TPN):\r\n",
        "  c = str(input(\"Ingrese nombre de pais del Norte: \")) \r\n",
        "  listaTPN.append(c)"
      ],
      "execution_count": 7,
      "outputs": [
        {
          "output_type": "stream",
          "text": [
            "Ingrese nombre de pais del sur: sdasde\n",
            "Ingrese nombre de pais del sur: aasd\n",
            "Ingrese nombre de pais del centro: khgj\n",
            "Ingrese nombre de pais del centro: hjk\n",
            "Ingrese nombre de pais del Norte: cvb\n",
            "Ingrese nombre de pais del Norte: cvb\n"
          ],
          "name": "stdout"
        }
      ]
    }
  ]
}